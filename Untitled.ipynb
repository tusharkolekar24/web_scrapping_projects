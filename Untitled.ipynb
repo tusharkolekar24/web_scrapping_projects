{
 "cells": [
  {
   "cell_type": "code",
   "execution_count": 1,
   "id": "a4e6e752",
   "metadata": {},
   "outputs": [],
   "source": [
    "\"\"\"\n",
    "This app creates a simple sidebar layout using inline style arguments and the\n",
    "dbc.Nav component.\n",
    "\n",
    "dcc.Location is used to track the current location, and a callback uses the\n",
    "current location to render the appropriate page content. The active prop of\n",
    "each NavLink is set automatically according to the current pathname. To use\n",
    "this feature you must install dash-bootstrap-components >= 0.11.0.\n",
    "\n",
    "For more details on building multi-page Dash applications, check out the Dash\n",
    "documentation: https://dash.plot.ly/urls\n",
    "\"\"\"\n",
    "import plotly.express as px\n",
    "import dash\n",
    "import dash_bootstrap_components as dbc\n",
    "from dash import Input, Output, dcc, html\n",
    "import matplotlib.pyplot as plt"
   ]
  },
  {
   "cell_type": "code",
   "execution_count": 2,
   "id": "13b0e773",
   "metadata": {},
   "outputs": [],
   "source": [
    "# app = dash.Dash(external_stylesheets=[dbc.themes.BOOTSTRAP])\n",
    "\n",
    "# # the style arguments for the sidebar. We use position:fixed and a fixed width\n",
    "# SIDEBAR_STYLE = {\n",
    "#     \"position\": \"fixed\",\n",
    "#     \"top\": 0,\n",
    "#     \"left\": 0,\n",
    "#     \"bottom\": 0,\n",
    "#     \"width\": \"16rem\",\n",
    "#     \"padding\": \"2rem 1rem\",  \n",
    "#     \"background-color\": \"DarkGray\"\n",
    "# }\n",
    "\n",
    "# # the styles for the main content position it to the right of the sidebar and\n",
    "# # add some padding.\n",
    "# CONTENT_STYLE = {\n",
    "#     \"margin-left\": \"18rem\",\n",
    "#     \"margin-right\": \"2rem\",\n",
    "#     \"padding\": \"2rem 1rem\",\n",
    "# #    \"background-color\": \"#f8f9fa\"\n",
    "# }\n",
    "\n",
    "# sidebar = html.Div(\n",
    "#        [\n",
    "#         html.H2(\"Sidebar\", className=\"display-4\"),\n",
    "#         html.Hr(),\n",
    "#         html.P(\"A simple sidebar layout with navigation links\", className=\"lead\"),\n",
    "#         dbc.Nav(\n",
    "#             [\n",
    "#                 dbc.NavLink(\"Home\", href=\"/\", active=\"exact\"),\n",
    "#                 dbc.NavLink(\"Page 1\", href=\"/page-1\", active=\"exact\"),\n",
    "#                 dbc.NavLink(\"Page 2\", href=\"/page-2\", active=\"exact\"),\n",
    "#             ],\n",
    "#             vertical=True,\n",
    "#             pills=True,\n",
    "#         ),\n",
    "#     ],\n",
    "#     style=SIDEBAR_STYLE,\n",
    "# )\n",
    "\n",
    "# content = html.Div(id=\"page-content\", style=CONTENT_STYLE)#style=CONTENT_STYLE\n",
    "\n",
    "# app.layout = html.Div([dcc.Location(id=\"url\"), sidebar, content])\n",
    "\n",
    "\n",
    "# @app.callback(Output(\"page-content\", \"children\"), [Input(\"url\", \"pathname\")])\n",
    "# def render_page_content(pathname):\n",
    "#     if pathname == \"/\":\n",
    "#         return html.P(\"This is the content of the home page!\")\n",
    "#     elif pathname == \"/page-1\":\n",
    "#         return html.P(\"This is the content of page 1. Yay!\")\n",
    "#     elif pathname == \"/page-2\":\n",
    "#         return html.P(\"Oh cool, this is page 2!\")\n",
    "#     # If the user tries to reach a different page, return a 404 message\n",
    "#     return html.Div(\n",
    "#         [\n",
    "#             html.H1(\"404: Not found\", className=\"text-danger\"),\n",
    "#             html.Hr(),\n",
    "#             html.P(f\"The pathname {pathname} was not recognised...\"),\n",
    "#         ],\n",
    "#         className=\"p-3 bg-light rounded-3\",\n",
    "#     )"
   ]
  },
  {
   "cell_type": "code",
   "execution_count": 3,
   "id": "8c665886",
   "metadata": {},
   "outputs": [],
   "source": [
    "import base64                       #\"C:\\Users\\Tushar\\Downloads\\artificial-intelligence.jpg\"\n",
    "test_base64 = base64.b64encode(open(r\"C:\\Users\\Tushar\\Downloads\\8131880.png\", 'rb').read()).decode('ascii')"
   ]
  },
  {
   "cell_type": "code",
   "execution_count": 4,
   "id": "14e00771",
   "metadata": {},
   "outputs": [],
   "source": [
    "# if __name__ == \"__main__\":\n",
    "#     app.run_server()"
   ]
  },
  {
   "cell_type": "code",
   "execution_count": 5,
   "id": "d5896006",
   "metadata": {},
   "outputs": [],
   "source": [
    "# dbc.Container([\n",
    "#     dbc.Row([dbc.Col(dcc.Dropdown()), dbc.Col(dcc.Dropdown())])\n",
    "# ])"
   ]
  },
  {
   "cell_type": "code",
   "execution_count": 6,
   "id": "b65ffc17",
   "metadata": {},
   "outputs": [],
   "source": [
    "SIDEBAR_STYLE = {\n",
    "    \"position\": \"fixed\",\n",
    "    \"top\": 0,\n",
    "    \"left\": 0,\n",
    "    \"bottom\": 0,\n",
    "    \"width\": \"18rem\",\n",
    "    \"padding\": \"1rem 1rem\",  \n",
    "    \"background-color\": \"F8F8FF\",\n",
    "}\n",
    "CONTENT_STYLE = {\n",
    "    \"margin-top\": \"0.1rem\",\n",
    "    \"margin-left\": \"19rem\",\n",
    "    \"margin-right\": \"0.1rem\",\n",
    "    #\"padding\": \"1rem 1rem\",\n",
    "    \"margin-bottom\": \"0rem\",\n",
    "    \"height\" : '56.6rem',\n",
    "    \"background-color\": 'Gainsboro',#\"WhiteSmoke\",\n",
    "}\n",
    "\n",
    "sidebar = html.Div(\n",
    "       [\n",
    "\n",
    "        html.Img(src='data:image/png;base64,{}'.format(test_base64),style={\"margin-left\": \"25%\", \n",
    "                                                                           'widith':'12%','height':'4%',\n",
    "                                                                           \"margin-bottom\": \"5%\",\n",
    "                                                                           \"margin-top\": \"3%\"}),\n",
    "           \n",
    "        dbc.Label(\"RDA\",style={\"margin-left\": \"5%\",\"font-weight\":'bold'},size='lg'),\n",
    "           \n",
    "\n",
    "#         html.P(\"A simple sidebar layout with navigation links\", className=\"lead\"),\n",
    "#         dbc.Nav(\n",
    "#             [\n",
    "#                 dbc.NavLink(\"Home\", href=\"/home\", active=\"exact\",),\n",
    "#                 dbc.NavLink(\"Page 1\", href=\"/page-1\", active=\"exact\"),\n",
    "#                 dbc.NavLink(\"Page 2\", href=\"/page-2\", active=\"exact\"),\n",
    "#                 dbc.NavLink(\"Page 3\", href=\"/page-3\", active=\"exact\"),\n",
    "#             ],          \n",
    "#             vertical=True,\n",
    "#             pills=True,          \n",
    "#         ),   \n",
    "    \n",
    "\n",
    "    ],\n",
    "    style=SIDEBAR_STYLE,\n",
    ")"
   ]
  },
  {
   "cell_type": "code",
   "execution_count": 7,
   "id": "5368f17d",
   "metadata": {},
   "outputs": [
    {
     "name": "stdout",
     "output_type": "stream",
     "text": [
      "Dash is running on http://127.0.0.1:8050/\n",
      "\n",
      " * Serving Flask app \"__main__\" (lazy loading)\n",
      " * Environment: production\n",
      "\u001b[31m   WARNING: This is a development server. Do not use it in a production deployment.\u001b[0m\n",
      "\u001b[2m   Use a production WSGI server instead.\u001b[0m\n",
      " * Debug mode: off\n"
     ]
    },
    {
     "name": "stderr",
     "output_type": "stream",
     "text": [
      " * Running on http://127.0.0.1:8050/ (Press CTRL+C to quit)\n",
      "127.0.0.1 - - [25/Mar/2024 23:29:54] \"GET / HTTP/1.1\" 200 -\n",
      "127.0.0.1 - - [25/Mar/2024 23:29:54] \"GET /_dash-layout HTTP/1.1\" 200 -\n",
      "127.0.0.1 - - [25/Mar/2024 23:29:54] \"GET /_dash-dependencies HTTP/1.1\" 200 -\n"
     ]
    }
   ],
   "source": [
    "app = dash.Dash(external_stylesheets=[dbc.themes.BOOTSTRAP])\n",
    "content = html.Div(id=\"page-content\", style=CONTENT_STYLE)\n",
    "\n",
    "app.layout = html.Div([dcc.Location(id=\"url\"), content,sidebar])\n",
    "#app.layout = html.Div([sidebar])\n",
    "\n",
    "\n",
    "if __name__ == \"__main__\":\n",
    "    app.run_server()"
   ]
  },
  {
   "cell_type": "code",
   "execution_count": 159,
   "id": "4403becc",
   "metadata": {},
   "outputs": [],
   "source": [
    "# from skimage import data\n",
    "# img      = plt.imread(r\"C:\\Users\\Tushar\\Downloads\\AI.png\",0)"
   ]
  },
  {
   "cell_type": "code",
   "execution_count": 86,
   "id": "dadaf59d",
   "metadata": {},
   "outputs": [],
   "source": [
    "#plt.imsave(r\"C:\\Users\\Tushar\\Downloads\\AI.jpg\",img)"
   ]
  },
  {
   "cell_type": "code",
   "execution_count": 87,
   "id": "eec65c83",
   "metadata": {},
   "outputs": [],
   "source": [
    "# img1      = plt.imread(r\"C:\\Users\\Tushar\\Downloads\\AI.jpg\") #data.astronaut()\n",
    "# ai_icone  = px.imshow(img1)\n",
    "# config = {'staticPlot': True}\n",
    "\n",
    "# ai_icone.update_layout(width=50, height=50,margin=dict(l=10, r=10, b=10, t=10))\n",
    "# ai_icone.update_xaxes(showticklabels=False).update_yaxes(showticklabels=False)\n",
    "\n",
    "# ai_icone.show(config=config)"
   ]
  },
  {
   "cell_type": "code",
   "execution_count": null,
   "id": "c67ea801",
   "metadata": {},
   "outputs": [],
   "source": []
  }
 ],
 "metadata": {
  "kernelspec": {
   "display_name": "Python 3 (ipykernel)",
   "language": "python",
   "name": "python3"
  },
  "language_info": {
   "codemirror_mode": {
    "name": "ipython",
    "version": 3
   },
   "file_extension": ".py",
   "mimetype": "text/x-python",
   "name": "python",
   "nbconvert_exporter": "python",
   "pygments_lexer": "ipython3",
   "version": "3.9.13"
  }
 },
 "nbformat": 4,
 "nbformat_minor": 5
}
